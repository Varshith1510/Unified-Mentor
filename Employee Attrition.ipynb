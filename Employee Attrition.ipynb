{
 "cells": [
  {
   "cell_type": "code",
   "execution_count": 1,
   "id": "1607b90a",
   "metadata": {},
   "outputs": [],
   "source": [
    "# Import necessary libraries\n",
    "import numpy as np\n",
    "import pandas as pd\n",
    "import matplotlib.pyplot as plt\n",
    "import seaborn as sns\n",
    "import warnings\n",
    "warnings.filterwarnings('ignore')"
   ]
  },
  {
   "cell_type": "code",
   "execution_count": 2,
   "id": "34e55c3b",
   "metadata": {},
   "outputs": [],
   "source": [
    "# Loading the data\n",
    "data = pd.read_csv('Attrition data.csv')"
   ]
  },
  {
   "cell_type": "code",
   "execution_count": 3,
   "id": "e2b8c489",
   "metadata": {},
   "outputs": [
    {
     "name": "stdout",
     "output_type": "stream",
     "text": [
      "<class 'pandas.core.frame.DataFrame'>\n",
      "RangeIndex: 4410 entries, 0 to 4409\n",
      "Data columns (total 29 columns):\n",
      " #   Column                   Non-Null Count  Dtype  \n",
      "---  ------                   --------------  -----  \n",
      " 0   EmployeeID               4410 non-null   int64  \n",
      " 1   Age                      4410 non-null   int64  \n",
      " 2   Attrition                4410 non-null   object \n",
      " 3   BusinessTravel           4410 non-null   object \n",
      " 4   Department               4410 non-null   object \n",
      " 5   DistanceFromHome         4410 non-null   int64  \n",
      " 6   Education                4410 non-null   int64  \n",
      " 7   EducationField           4410 non-null   object \n",
      " 8   EmployeeCount            4410 non-null   int64  \n",
      " 9   Gender                   4410 non-null   object \n",
      " 10  JobLevel                 4410 non-null   int64  \n",
      " 11  JobRole                  4410 non-null   object \n",
      " 12  MaritalStatus            4410 non-null   object \n",
      " 13  MonthlyIncome            4410 non-null   int64  \n",
      " 14  NumCompaniesWorked       4391 non-null   float64\n",
      " 15  Over18                   4410 non-null   object \n",
      " 16  PercentSalaryHike        4410 non-null   int64  \n",
      " 17  StandardHours            4410 non-null   int64  \n",
      " 18  StockOptionLevel         4410 non-null   int64  \n",
      " 19  TotalWorkingYears        4401 non-null   float64\n",
      " 20  TrainingTimesLastYear    4410 non-null   int64  \n",
      " 21  YearsAtCompany           4410 non-null   int64  \n",
      " 22  YearsSinceLastPromotion  4410 non-null   int64  \n",
      " 23  YearsWithCurrManager     4410 non-null   int64  \n",
      " 24  EnvironmentSatisfaction  4385 non-null   float64\n",
      " 25  JobSatisfaction          4390 non-null   float64\n",
      " 26  WorkLifeBalance          4372 non-null   float64\n",
      " 27  JobInvolvement           4410 non-null   int64  \n",
      " 28  PerformanceRating        4410 non-null   int64  \n",
      "dtypes: float64(5), int64(16), object(8)\n",
      "memory usage: 999.3+ KB\n"
     ]
    }
   ],
   "source": [
    "data.info()"
   ]
  },
  {
   "cell_type": "code",
   "execution_count": 4,
   "id": "fdc6750a",
   "metadata": {},
   "outputs": [
    {
     "data": {
      "text/html": [
       "<div>\n",
       "<style scoped>\n",
       "    .dataframe tbody tr th:only-of-type {\n",
       "        vertical-align: middle;\n",
       "    }\n",
       "\n",
       "    .dataframe tbody tr th {\n",
       "        vertical-align: top;\n",
       "    }\n",
       "\n",
       "    .dataframe thead th {\n",
       "        text-align: right;\n",
       "    }\n",
       "</style>\n",
       "<table border=\"1\" class=\"dataframe\">\n",
       "  <thead>\n",
       "    <tr style=\"text-align: right;\">\n",
       "      <th></th>\n",
       "      <th>EmployeeID</th>\n",
       "      <th>Age</th>\n",
       "      <th>Attrition</th>\n",
       "      <th>BusinessTravel</th>\n",
       "      <th>Department</th>\n",
       "      <th>DistanceFromHome</th>\n",
       "      <th>Education</th>\n",
       "      <th>EducationField</th>\n",
       "      <th>EmployeeCount</th>\n",
       "      <th>Gender</th>\n",
       "      <th>...</th>\n",
       "      <th>TotalWorkingYears</th>\n",
       "      <th>TrainingTimesLastYear</th>\n",
       "      <th>YearsAtCompany</th>\n",
       "      <th>YearsSinceLastPromotion</th>\n",
       "      <th>YearsWithCurrManager</th>\n",
       "      <th>EnvironmentSatisfaction</th>\n",
       "      <th>JobSatisfaction</th>\n",
       "      <th>WorkLifeBalance</th>\n",
       "      <th>JobInvolvement</th>\n",
       "      <th>PerformanceRating</th>\n",
       "    </tr>\n",
       "  </thead>\n",
       "  <tbody>\n",
       "    <tr>\n",
       "      <th>0</th>\n",
       "      <td>1</td>\n",
       "      <td>51</td>\n",
       "      <td>No</td>\n",
       "      <td>Travel_Rarely</td>\n",
       "      <td>Sales</td>\n",
       "      <td>6</td>\n",
       "      <td>2</td>\n",
       "      <td>Life Sciences</td>\n",
       "      <td>1</td>\n",
       "      <td>Female</td>\n",
       "      <td>...</td>\n",
       "      <td>1.0</td>\n",
       "      <td>6</td>\n",
       "      <td>1</td>\n",
       "      <td>0</td>\n",
       "      <td>0</td>\n",
       "      <td>3.0</td>\n",
       "      <td>4.0</td>\n",
       "      <td>2.0</td>\n",
       "      <td>3</td>\n",
       "      <td>3</td>\n",
       "    </tr>\n",
       "    <tr>\n",
       "      <th>1</th>\n",
       "      <td>2</td>\n",
       "      <td>31</td>\n",
       "      <td>Yes</td>\n",
       "      <td>Travel_Frequently</td>\n",
       "      <td>Research &amp; Development</td>\n",
       "      <td>10</td>\n",
       "      <td>1</td>\n",
       "      <td>Life Sciences</td>\n",
       "      <td>1</td>\n",
       "      <td>Female</td>\n",
       "      <td>...</td>\n",
       "      <td>6.0</td>\n",
       "      <td>3</td>\n",
       "      <td>5</td>\n",
       "      <td>1</td>\n",
       "      <td>4</td>\n",
       "      <td>3.0</td>\n",
       "      <td>2.0</td>\n",
       "      <td>4.0</td>\n",
       "      <td>2</td>\n",
       "      <td>4</td>\n",
       "    </tr>\n",
       "    <tr>\n",
       "      <th>2</th>\n",
       "      <td>3</td>\n",
       "      <td>32</td>\n",
       "      <td>No</td>\n",
       "      <td>Travel_Frequently</td>\n",
       "      <td>Research &amp; Development</td>\n",
       "      <td>17</td>\n",
       "      <td>4</td>\n",
       "      <td>Other</td>\n",
       "      <td>1</td>\n",
       "      <td>Male</td>\n",
       "      <td>...</td>\n",
       "      <td>5.0</td>\n",
       "      <td>2</td>\n",
       "      <td>5</td>\n",
       "      <td>0</td>\n",
       "      <td>3</td>\n",
       "      <td>2.0</td>\n",
       "      <td>2.0</td>\n",
       "      <td>1.0</td>\n",
       "      <td>3</td>\n",
       "      <td>3</td>\n",
       "    </tr>\n",
       "    <tr>\n",
       "      <th>3</th>\n",
       "      <td>4</td>\n",
       "      <td>38</td>\n",
       "      <td>No</td>\n",
       "      <td>Non-Travel</td>\n",
       "      <td>Research &amp; Development</td>\n",
       "      <td>2</td>\n",
       "      <td>5</td>\n",
       "      <td>Life Sciences</td>\n",
       "      <td>1</td>\n",
       "      <td>Male</td>\n",
       "      <td>...</td>\n",
       "      <td>13.0</td>\n",
       "      <td>5</td>\n",
       "      <td>8</td>\n",
       "      <td>7</td>\n",
       "      <td>5</td>\n",
       "      <td>4.0</td>\n",
       "      <td>4.0</td>\n",
       "      <td>3.0</td>\n",
       "      <td>2</td>\n",
       "      <td>3</td>\n",
       "    </tr>\n",
       "    <tr>\n",
       "      <th>4</th>\n",
       "      <td>5</td>\n",
       "      <td>32</td>\n",
       "      <td>No</td>\n",
       "      <td>Travel_Rarely</td>\n",
       "      <td>Research &amp; Development</td>\n",
       "      <td>10</td>\n",
       "      <td>1</td>\n",
       "      <td>Medical</td>\n",
       "      <td>1</td>\n",
       "      <td>Male</td>\n",
       "      <td>...</td>\n",
       "      <td>9.0</td>\n",
       "      <td>2</td>\n",
       "      <td>6</td>\n",
       "      <td>0</td>\n",
       "      <td>4</td>\n",
       "      <td>4.0</td>\n",
       "      <td>1.0</td>\n",
       "      <td>3.0</td>\n",
       "      <td>3</td>\n",
       "      <td>3</td>\n",
       "    </tr>\n",
       "  </tbody>\n",
       "</table>\n",
       "<p>5 rows × 29 columns</p>\n",
       "</div>"
      ],
      "text/plain": [
       "   EmployeeID  Age Attrition     BusinessTravel              Department  \\\n",
       "0           1   51        No      Travel_Rarely                   Sales   \n",
       "1           2   31       Yes  Travel_Frequently  Research & Development   \n",
       "2           3   32        No  Travel_Frequently  Research & Development   \n",
       "3           4   38        No         Non-Travel  Research & Development   \n",
       "4           5   32        No      Travel_Rarely  Research & Development   \n",
       "\n",
       "   DistanceFromHome  Education EducationField  EmployeeCount  Gender  ...  \\\n",
       "0                 6          2  Life Sciences              1  Female  ...   \n",
       "1                10          1  Life Sciences              1  Female  ...   \n",
       "2                17          4          Other              1    Male  ...   \n",
       "3                 2          5  Life Sciences              1    Male  ...   \n",
       "4                10          1        Medical              1    Male  ...   \n",
       "\n",
       "   TotalWorkingYears TrainingTimesLastYear YearsAtCompany  \\\n",
       "0                1.0                     6              1   \n",
       "1                6.0                     3              5   \n",
       "2                5.0                     2              5   \n",
       "3               13.0                     5              8   \n",
       "4                9.0                     2              6   \n",
       "\n",
       "   YearsSinceLastPromotion  YearsWithCurrManager EnvironmentSatisfaction  \\\n",
       "0                        0                     0                     3.0   \n",
       "1                        1                     4                     3.0   \n",
       "2                        0                     3                     2.0   \n",
       "3                        7                     5                     4.0   \n",
       "4                        0                     4                     4.0   \n",
       "\n",
       "   JobSatisfaction  WorkLifeBalance  JobInvolvement  PerformanceRating  \n",
       "0              4.0              2.0               3                  3  \n",
       "1              2.0              4.0               2                  4  \n",
       "2              2.0              1.0               3                  3  \n",
       "3              4.0              3.0               2                  3  \n",
       "4              1.0              3.0               3                  3  \n",
       "\n",
       "[5 rows x 29 columns]"
      ]
     },
     "execution_count": 4,
     "metadata": {},
     "output_type": "execute_result"
    }
   ],
   "source": [
    "data.head()"
   ]
  },
  {
   "cell_type": "code",
   "execution_count": 5,
   "id": "9d34087d",
   "metadata": {},
   "outputs": [],
   "source": [
    "# Consider only necessary columns\n",
    "columns = ['Age','Attrition','Department','EducationField','Gender','EmployeeCount','YearsAtCompany','JobRole',\n",
    "           'EnvironmentSatisfaction','JobSatisfaction','WorkLifeBalance','JobInvolvement','PerformanceRating']\n",
    "\n",
    "data = data[columns]"
   ]
  },
  {
   "cell_type": "code",
   "execution_count": 6,
   "id": "44b2085c",
   "metadata": {},
   "outputs": [
    {
     "data": {
      "text/plain": [
       "Age                         0\n",
       "Attrition                   0\n",
       "Department                  0\n",
       "EducationField              0\n",
       "Gender                      0\n",
       "EmployeeCount               0\n",
       "YearsAtCompany              0\n",
       "JobRole                     0\n",
       "EnvironmentSatisfaction    25\n",
       "JobSatisfaction            20\n",
       "WorkLifeBalance            38\n",
       "JobInvolvement              0\n",
       "PerformanceRating           0\n",
       "dtype: int64"
      ]
     },
     "execution_count": 6,
     "metadata": {},
     "output_type": "execute_result"
    }
   ],
   "source": [
    "# Check for null values\n",
    "data.isnull().sum()"
   ]
  },
  {
   "cell_type": "code",
   "execution_count": 7,
   "id": "39fa89b7",
   "metadata": {},
   "outputs": [
    {
     "data": {
      "text/plain": [
       "array([ 3.,  2.,  4.,  1., nan])"
      ]
     },
     "execution_count": 7,
     "metadata": {},
     "output_type": "execute_result"
    }
   ],
   "source": [
    "# Fill the null values of all columns\n",
    "data['EnvironmentSatisfaction'].unique()"
   ]
  },
  {
   "cell_type": "code",
   "execution_count": 8,
   "id": "7b510764",
   "metadata": {},
   "outputs": [
    {
     "data": {
      "text/plain": [
       "array([ 4.,  2.,  1.,  3., nan])"
      ]
     },
     "execution_count": 8,
     "metadata": {},
     "output_type": "execute_result"
    }
   ],
   "source": [
    "data['JobSatisfaction'].unique()"
   ]
  },
  {
   "cell_type": "code",
   "execution_count": 9,
   "id": "cce586b1",
   "metadata": {},
   "outputs": [
    {
     "data": {
      "text/plain": [
       "array([ 2.,  4.,  1.,  3., nan])"
      ]
     },
     "execution_count": 9,
     "metadata": {},
     "output_type": "execute_result"
    }
   ],
   "source": [
    "data['WorkLifeBalance'].unique()"
   ]
  },
  {
   "cell_type": "markdown",
   "id": "0f66bcca",
   "metadata": {},
   "source": [
    "Here, NaN represents a satisfaction level of 0, hence, we'll fill the missing entries with 0"
   ]
  },
  {
   "cell_type": "code",
   "execution_count": 10,
   "id": "836ab31a",
   "metadata": {},
   "outputs": [],
   "source": [
    "data['EnvironmentSatisfaction'].fillna(0,inplace=True)\n",
    "data['JobSatisfaction'].fillna(0,inplace=True)\n",
    "data['WorkLifeBalance'].fillna(0,inplace=True)"
   ]
  },
  {
   "cell_type": "code",
   "execution_count": 11,
   "id": "5915ab83",
   "metadata": {},
   "outputs": [
    {
     "data": {
      "text/plain": [
       "Age                        0\n",
       "Attrition                  0\n",
       "Department                 0\n",
       "EducationField             0\n",
       "Gender                     0\n",
       "EmployeeCount              0\n",
       "YearsAtCompany             0\n",
       "JobRole                    0\n",
       "EnvironmentSatisfaction    0\n",
       "JobSatisfaction            0\n",
       "WorkLifeBalance            0\n",
       "JobInvolvement             0\n",
       "PerformanceRating          0\n",
       "dtype: int64"
      ]
     },
     "execution_count": 11,
     "metadata": {},
     "output_type": "execute_result"
    }
   ],
   "source": [
    "# Check if all null values are filled\n",
    "data.isnull().sum()"
   ]
  },
  {
   "cell_type": "code",
   "execution_count": 12,
   "id": "1adba67a",
   "metadata": {},
   "outputs": [
    {
     "name": "stdout",
     "output_type": "stream",
     "text": [
      "No of employees in the company: 4410\n"
     ]
    }
   ],
   "source": [
    "# No of employees in the company\n",
    "print(\"No of employees in the company:\",data['EmployeeCount'].sum())"
   ]
  },
  {
   "cell_type": "code",
   "execution_count": 13,
   "id": "8b021c4f",
   "metadata": {},
   "outputs": [
    {
     "data": {
      "image/png": "[encoded data removed]",
      "text/plain": [
       "<Figure size 216x216 with 1 Axes>"
      ]
     },
     "metadata": {
      "needs_background": "light"
     },
     "output_type": "display_data"
    }
   ],
   "source": [
    "# Attrition rate of the company\n",
    "plt.figure(figsize=(3,3))\n",
    "data['Attrition'].value_counts()\n",
    "sns.countplot(x = data['Attrition'],palette='Set1')\n",
    "plt.title('Attrition Count of the Company')\n",
    "plt.ylabel('No of employees')\n",
    "plt.show()"
   ]
  },
  {
   "cell_type": "markdown",
   "id": "fe981642",
   "metadata": {},
   "source": [
    "More than 10% of the employees who worked in the company have exited"
   ]
  },
  {
   "cell_type": "code",
   "execution_count": 14,
   "id": "fefed9f8",
   "metadata": {},
   "outputs": [
    {
     "data": {
      "image/png": "[encoded data removed]",
      "text/plain": [
       "<Figure size 216x216 with 1 Axes>"
      ]
     },
     "metadata": {
      "needs_background": "light"
     },
     "output_type": "display_data"
    }
   ],
   "source": [
    "# No of men & women who work at the company\n",
    "plt.figure(figsize=(3,3))\n",
    "data['Gender'].value_counts()\n",
    "sns.countplot(x = data['Gender'],palette='Set1')\n",
    "plt.title('Employee Gender Count')\n",
    "plt.ylabel('No of employees')\n",
    "plt.show()"
   ]
  },
  {
   "cell_type": "markdown",
   "id": "7e45c444",
   "metadata": {},
   "source": [
    "60% of employees of the company are male & the rest 40% are female employees"
   ]
  },
  {
   "cell_type": "code",
   "execution_count": 15,
   "id": "2f2fcdc0",
   "metadata": {},
   "outputs": [
    {
     "data": {
      "image/png": "[encoded data removed]",
      "text/plain": [
       "<Figure size 432x288 with 2 Axes>"
      ]
     },
     "metadata": {
      "needs_background": "light"
     },
     "output_type": "display_data"
    }
   ],
   "source": [
    "# Attrition rate based on gender\n",
    "gender_attr = data.groupby('Gender')\n",
    "male_data = gender_attr.get_group('Male')\n",
    "female_data = gender_attr.get_group('Female')\n",
    "\n",
    "plt.subplot(1,2,1)\n",
    "sns.countplot(x = male_data['Attrition'],palette='Set2')\n",
    "plt.title('Attrition count in male employees')\n",
    "plt.ylabel('No of employees')\n",
    "\n",
    "plt.subplot(1,2,2)\n",
    "sns.countplot(x = female_data['Attrition'],palette='Set2')\n",
    "plt.title('Attrition count in female employees')\n",
    "plt.ylabel('No of employees')\n",
    "\n",
    "plt.subplots_adjust(right = 1.5)\n",
    "plt.show()"
   ]
  },
  {
   "cell_type": "markdown",
   "id": "35bb6223",
   "metadata": {},
   "source": [
    "Approximately 20% of male employees & 15% of female employees have exited the company"
   ]
  },
  {
   "cell_type": "code",
   "execution_count": 16,
   "id": "3deed169",
   "metadata": {},
   "outputs": [],
   "source": [
    "# Separating employees based on department\n",
    "dept_attr = data.groupby('Department')\n",
    "\n",
    "hr_data = dept_attr.get_group('Human Resources')\n",
    "rd_data = dept_attr.get_group('Research & Development')\n",
    "sales_data = dept_attr.get_group('Sales')"
   ]
  },
  {
   "cell_type": "code",
   "execution_count": 17,
   "id": "dcfbf00d",
   "metadata": {},
   "outputs": [
    {
     "name": "stdout",
     "output_type": "stream",
     "text": [
      "Department wise Attrition Rate\n"
     ]
    },
    {
     "data": {
      "image/png": "[encoded data removed]",
      "text/plain": [
       "<Figure size 432x288 with 3 Axes>"
      ]
     },
     "metadata": {
      "needs_background": "light"
     },
     "output_type": "display_data"
    }
   ],
   "source": [
    "# Department wise attrition rate\n",
    "\n",
    "print(\"Department wise Attrition Rate\")\n",
    "\n",
    "plt.subplot(1,3,1)\n",
    "sns.countplot(x = hr_data['Attrition'],palette='Set3')\n",
    "plt.title('Attrition count of HR Department')\n",
    "plt.ylabel('No of employees')\n",
    "\n",
    "plt.subplot(1,3,2)\n",
    "sns.countplot(x = rd_data['Attrition'],palette='Set3')\n",
    "plt.title('Attrition count of R&D Department')\n",
    "plt.ylabel('No of employees')\n",
    "\n",
    "plt.subplot(1,3,3)\n",
    "sns.countplot(x = sales_data['Attrition'],palette='Set3')\n",
    "plt.title('Attrition count of Sales Department')\n",
    "plt.ylabel('No of employees')\n",
    "\n",
    "plt.subplots_adjust(right=2.2)\n",
    "plt.show()"
   ]
  },
  {
   "cell_type": "markdown",
   "id": "deca3a3c",
   "metadata": {},
   "source": [
    "Close to 30% of employees who work at HR Dept, 10% of employees who work for R&D Dept, 18% of Sales Dept employees have exited the company "
   ]
  },
  {
   "cell_type": "code",
   "execution_count": 18,
   "id": "9e8d21cb",
   "metadata": {},
   "outputs": [
    {
     "data": {
      "image/png": "[encoded data removed]",
      "text/plain": [
       "<Figure size 432x288 with 1 Axes>"
      ]
     },
     "metadata": {
      "needs_background": "light"
     },
     "output_type": "display_data"
    }
   ],
   "source": [
    "# Attrition rate based on environment satisfaction\n",
    "sns.countplot(x = data['EnvironmentSatisfaction'], hue = data['Attrition'])\n",
    "plt.title('Attrition count based on Environment Satisfaction Level')\n",
    "plt.ylabel('No of employees')\n",
    "plt.xlabel('Environment Satisfaction Level')\n",
    "plt.show()"
   ]
  },
  {
   "cell_type": "markdown",
   "id": "e0ebd8e5",
   "metadata": {},
   "source": [
    "Proportion of employees who found the company environment to be unsatisfactory(1.0) & quit is more when compared to other employees"
   ]
  },
  {
   "cell_type": "code",
   "execution_count": 19,
   "id": "05c07aef",
   "metadata": {},
   "outputs": [
    {
     "data": {
      "image/png": "[encoded data removed]",
      "text/plain": [
       "<Figure size 432x288 with 1 Axes>"
      ]
     },
     "metadata": {
      "needs_background": "light"
     },
     "output_type": "display_data"
    }
   ],
   "source": [
    "# Attrition rate based on job satisfaction\n",
    "sns.countplot(x = data['JobSatisfaction'], hue = data['Attrition'],palette='Set1')\n",
    "plt.title('Attrition count based on Job Satisfaction Level')\n",
    "plt.ylabel('No of employees')\n",
    "plt.xlabel('Job Satisfaction Level')\n",
    "plt.show()"
   ]
  },
  {
   "cell_type": "markdown",
   "id": "a952299a",
   "metadata": {},
   "source": [
    "Proportion of employees who found their job unsatisfactory(1.0) & quit is more when compared to other employees"
   ]
  },
  {
   "cell_type": "code",
   "execution_count": 20,
   "id": "b42dd494",
   "metadata": {},
   "outputs": [
    {
     "data": {
      "image/png": "[encoded data removed]",
      "text/plain": [
       "<Figure size 432x288 with 1 Axes>"
      ]
     },
     "metadata": {
      "needs_background": "light"
     },
     "output_type": "display_data"
    }
   ],
   "source": [
    "# Attrition rate based on Job Involvement\n",
    "sns.countplot(x = data['JobInvolvement'], hue = data['Attrition'],palette='Set2')\n",
    "plt.title('Attrition count based on Job Involvement Level')\n",
    "plt.ylabel('No of employees')\n",
    "plt.xlabel('Job Involvement Level')\n",
    "plt.show()"
   ]
  },
  {
   "cell_type": "code",
   "execution_count": 21,
   "id": "a2098f8f",
   "metadata": {},
   "outputs": [
    {
     "data": {
      "image/png": "[encoded data removed]",
      "text/plain": [
       "<Figure size 432x288 with 1 Axes>"
      ]
     },
     "metadata": {
      "needs_background": "light"
     },
     "output_type": "display_data"
    }
   ],
   "source": [
    "# Attrition rate based on work-life balance \n",
    "sns.countplot(x = data['WorkLifeBalance'], hue = data['Attrition'])\n",
    "plt.title('Attrition count based on Work-Life Balance')\n",
    "plt.ylabel('No of employees')\n",
    "plt.xlabel('Work-Life Balance Skill')\n",
    "plt.show()"
   ]
  },
  {
   "cell_type": "code",
   "execution_count": 22,
   "id": "4189aae5",
   "metadata": {},
   "outputs": [],
   "source": [
    "# Writing to a new csv file\n",
    "data.to_csv('Employee Attrition.csv')"
   ]
  }
 ],
 "metadata": {
  "kernelspec": {
   "display_name": "Python 3 (ipykernel)",
   "language": "python",
   "name": "python3"
  },
  "language_info": {
   "codemirror_mode": {
    "name": "ipython",
    "version": 3
   },
   "file_extension": ".py",
   "mimetype": "text/x-python",
   "name": "python",
   "nbconvert_exporter": "python",
   "pygments_lexer": "ipython3",
   "version": "3.9.7"
  }
 },
 "nbformat": 4,
 "nbformat_minor": 5
}
