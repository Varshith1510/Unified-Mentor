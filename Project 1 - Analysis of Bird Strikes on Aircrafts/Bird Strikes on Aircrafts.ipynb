{
 "cells": [
  {
   "cell_type": "code",
   "execution_count": 1,
   "id": "0be26c4e",
   "metadata": {},
   "outputs": [],
   "source": [
    "# Import necessary libraries\n",
    "import numpy as np\n",
    "import pandas as pd\n",
    "import matplotlib.pyplot as plt\n",
    "import seaborn as sns"
   ]
  },
  {
   "cell_type": "code",
   "execution_count": 2,
   "id": "deac7af0",
   "metadata": {},
   "outputs": [],
   "source": [
    "# Load the dataset\n",
    "data = pd.read_excel('Bird Strikes data.xlsx')"
   ]
  },
  {
   "cell_type": "code",
   "execution_count": 3,
   "id": "830b4343",
   "metadata": {},
   "outputs": [
    {
     "name": "stdout",
     "output_type": "stream",
     "text": [
      "<class 'pandas.core.frame.DataFrame'>\n",
      "RangeIndex: 25558 entries, 0 to 25557\n",
      "Data columns (total 26 columns):\n",
      " #   Column                                   Non-Null Count  Dtype         \n",
      "---  ------                                   --------------  -----         \n",
      " 0   Record ID                                25558 non-null  int64         \n",
      " 1   Aircraft: Type                           25429 non-null  object        \n",
      " 2   Airport: Name                            25429 non-null  object        \n",
      " 3   Altitude bin                             25429 non-null  object        \n",
      " 4   Aircraft: Make/Model                     25558 non-null  object        \n",
      " 5   Wildlife: Number struck                  25429 non-null  object        \n",
      " 6   Wildlife: Number Struck Actual           25558 non-null  int64         \n",
      " 7   Effect: Impact to flight                 25429 non-null  object        \n",
      " 8   FlightDate                               25429 non-null  datetime64[ns]\n",
      " 9   Effect: Indicated Damage                 25558 non-null  object        \n",
      " 10  Aircraft: Number of engines?             25291 non-null  object        \n",
      " 11  Aircraft: Airline/Operator               25429 non-null  object        \n",
      " 12  Origin State                             25109 non-null  object        \n",
      " 13  When: Phase of flight                    25429 non-null  object        \n",
      " 14  Conditions: Precipitation                25558 non-null  object        \n",
      " 15  Remains of wildlife collected?           25558 non-null  bool          \n",
      " 16  Remains of wildlife sent to Smithsonian  25558 non-null  bool          \n",
      " 17  Remarks                                  20787 non-null  object        \n",
      " 18  Wildlife: Size                           25429 non-null  object        \n",
      " 19  Conditions: Sky                          25558 non-null  object        \n",
      " 20  Wildlife: Species                        25558 non-null  object        \n",
      " 21  Pilot warned of birds or wildlife?       25429 non-null  object        \n",
      " 22  Cost: Total $                            25558 non-null  int64         \n",
      " 23  Feet above ground                        25429 non-null  float64       \n",
      " 24  Number of people injured                 25558 non-null  int64         \n",
      " 25  Is Aircraft Large?                       25429 non-null  object        \n",
      "dtypes: bool(2), datetime64[ns](1), float64(1), int64(4), object(18)\n",
      "memory usage: 4.7+ MB\n"
     ]
    }
   ],
   "source": [
    "data.info()"
   ]
  },
  {
   "cell_type": "code",
   "execution_count": 4,
   "id": "339c0f9a",
   "metadata": {},
   "outputs": [
    {
     "data": {
      "text/html": [
       "<div>\n",
       "<style scoped>\n",
       "    .dataframe tbody tr th:only-of-type {\n",
       "        vertical-align: middle;\n",
       "    }\n",
       "\n",
       "    .dataframe tbody tr th {\n",
       "        vertical-align: top;\n",
       "    }\n",
       "\n",
       "    .dataframe thead th {\n",
       "        text-align: right;\n",
       "    }\n",
       "</style>\n",
       "<table border=\"1\" class=\"dataframe\">\n",
       "  <thead>\n",
       "    <tr style=\"text-align: right;\">\n",
       "      <th></th>\n",
       "      <th>Record ID</th>\n",
       "      <th>Aircraft: Type</th>\n",
       "      <th>Airport: Name</th>\n",
       "      <th>Altitude bin</th>\n",
       "      <th>Aircraft: Make/Model</th>\n",
       "      <th>Wildlife: Number struck</th>\n",
       "      <th>Wildlife: Number Struck Actual</th>\n",
       "      <th>Effect: Impact to flight</th>\n",
       "      <th>FlightDate</th>\n",
       "      <th>Effect: Indicated Damage</th>\n",
       "      <th>...</th>\n",
       "      <th>Remains of wildlife sent to Smithsonian</th>\n",
       "      <th>Remarks</th>\n",
       "      <th>Wildlife: Size</th>\n",
       "      <th>Conditions: Sky</th>\n",
       "      <th>Wildlife: Species</th>\n",
       "      <th>Pilot warned of birds or wildlife?</th>\n",
       "      <th>Cost: Total $</th>\n",
       "      <th>Feet above ground</th>\n",
       "      <th>Number of people injured</th>\n",
       "      <th>Is Aircraft Large?</th>\n",
       "    </tr>\n",
       "  </thead>\n",
       "  <tbody>\n",
       "    <tr>\n",
       "      <th>0</th>\n",
       "      <td>202152</td>\n",
       "      <td>Airplane</td>\n",
       "      <td>LAGUARDIA NY</td>\n",
       "      <td>&gt; 1000 ft</td>\n",
       "      <td>B-737-400</td>\n",
       "      <td>Over 100</td>\n",
       "      <td>859</td>\n",
       "      <td>Engine Shut Down</td>\n",
       "      <td>2000-11-23</td>\n",
       "      <td>Caused damage</td>\n",
       "      <td>...</td>\n",
       "      <td>False</td>\n",
       "      <td>FLT 753. PILOT REPTD A HUNDRED BIRDS ON UNKN T...</td>\n",
       "      <td>Medium</td>\n",
       "      <td>No Cloud</td>\n",
       "      <td>Unknown bird - medium</td>\n",
       "      <td>N</td>\n",
       "      <td>30736</td>\n",
       "      <td>1500.0</td>\n",
       "      <td>0</td>\n",
       "      <td>Yes</td>\n",
       "    </tr>\n",
       "    <tr>\n",
       "      <th>1</th>\n",
       "      <td>208159</td>\n",
       "      <td>Airplane</td>\n",
       "      <td>DALLAS/FORT WORTH INTL ARPT</td>\n",
       "      <td>&lt; 1000 ft</td>\n",
       "      <td>MD-80</td>\n",
       "      <td>Over 100</td>\n",
       "      <td>424</td>\n",
       "      <td>None</td>\n",
       "      <td>2001-07-25</td>\n",
       "      <td>Caused damage</td>\n",
       "      <td>...</td>\n",
       "      <td>False</td>\n",
       "      <td>102 CARCASSES FOUND. 1 LDG LIGHT ON NOSE GEAR ...</td>\n",
       "      <td>Small</td>\n",
       "      <td>Some Cloud</td>\n",
       "      <td>Rock pigeon</td>\n",
       "      <td>Y</td>\n",
       "      <td>0</td>\n",
       "      <td>0.0</td>\n",
       "      <td>0</td>\n",
       "      <td>No</td>\n",
       "    </tr>\n",
       "    <tr>\n",
       "      <th>2</th>\n",
       "      <td>207601</td>\n",
       "      <td>Airplane</td>\n",
       "      <td>LAKEFRONT AIRPORT</td>\n",
       "      <td>&lt; 1000 ft</td>\n",
       "      <td>C-500</td>\n",
       "      <td>Over 100</td>\n",
       "      <td>261</td>\n",
       "      <td>None</td>\n",
       "      <td>2001-09-14</td>\n",
       "      <td>No damage</td>\n",
       "      <td>...</td>\n",
       "      <td>False</td>\n",
       "      <td>FLEW UNDER A VERY LARGE FLOCK OF BIRDS OVER AP...</td>\n",
       "      <td>Small</td>\n",
       "      <td>No Cloud</td>\n",
       "      <td>European starling</td>\n",
       "      <td>N</td>\n",
       "      <td>0</td>\n",
       "      <td>50.0</td>\n",
       "      <td>0</td>\n",
       "      <td>No</td>\n",
       "    </tr>\n",
       "    <tr>\n",
       "      <th>3</th>\n",
       "      <td>215953</td>\n",
       "      <td>Airplane</td>\n",
       "      <td>SEATTLE-TACOMA INTL</td>\n",
       "      <td>&lt; 1000 ft</td>\n",
       "      <td>B-737-400</td>\n",
       "      <td>Over 100</td>\n",
       "      <td>806</td>\n",
       "      <td>Precautionary Landing</td>\n",
       "      <td>2002-09-05</td>\n",
       "      <td>No damage</td>\n",
       "      <td>...</td>\n",
       "      <td>False</td>\n",
       "      <td>NOTAM WARNING. 26 BIRDS HIT THE A/C, FORCING A...</td>\n",
       "      <td>Small</td>\n",
       "      <td>Some Cloud</td>\n",
       "      <td>European starling</td>\n",
       "      <td>Y</td>\n",
       "      <td>0</td>\n",
       "      <td>50.0</td>\n",
       "      <td>0</td>\n",
       "      <td>Yes</td>\n",
       "    </tr>\n",
       "    <tr>\n",
       "      <th>4</th>\n",
       "      <td>219878</td>\n",
       "      <td>Airplane</td>\n",
       "      <td>NORFOLK INTL</td>\n",
       "      <td>&lt; 1000 ft</td>\n",
       "      <td>CL-RJ100/200</td>\n",
       "      <td>Over 100</td>\n",
       "      <td>942</td>\n",
       "      <td>None</td>\n",
       "      <td>2003-06-23</td>\n",
       "      <td>No damage</td>\n",
       "      <td>...</td>\n",
       "      <td>False</td>\n",
       "      <td>NO DMG REPTD.</td>\n",
       "      <td>Small</td>\n",
       "      <td>No Cloud</td>\n",
       "      <td>European starling</td>\n",
       "      <td>N</td>\n",
       "      <td>0</td>\n",
       "      <td>50.0</td>\n",
       "      <td>0</td>\n",
       "      <td>No</td>\n",
       "    </tr>\n",
       "  </tbody>\n",
       "</table>\n",
       "<p>5 rows × 26 columns</p>\n",
       "</div>"
      ],
      "text/plain": [
       "   Record ID Aircraft: Type                Airport: Name Altitude bin  \\\n",
       "0     202152       Airplane                 LAGUARDIA NY    > 1000 ft   \n",
       "1     208159       Airplane  DALLAS/FORT WORTH INTL ARPT    < 1000 ft   \n",
       "2     207601       Airplane            LAKEFRONT AIRPORT    < 1000 ft   \n",
       "3     215953       Airplane          SEATTLE-TACOMA INTL    < 1000 ft   \n",
       "4     219878       Airplane                 NORFOLK INTL    < 1000 ft   \n",
       "\n",
       "  Aircraft: Make/Model Wildlife: Number struck  \\\n",
       "0            B-737-400                Over 100   \n",
       "1                MD-80                Over 100   \n",
       "2                C-500                Over 100   \n",
       "3            B-737-400                Over 100   \n",
       "4         CL-RJ100/200                Over 100   \n",
       "\n",
       "   Wildlife: Number Struck Actual Effect: Impact to flight FlightDate  \\\n",
       "0                             859         Engine Shut Down 2000-11-23   \n",
       "1                             424                     None 2001-07-25   \n",
       "2                             261                     None 2001-09-14   \n",
       "3                             806    Precautionary Landing 2002-09-05   \n",
       "4                             942                     None 2003-06-23   \n",
       "\n",
       "  Effect: Indicated Damage  ... Remains of wildlife sent to Smithsonian  \\\n",
       "0            Caused damage  ...                                   False   \n",
       "1            Caused damage  ...                                   False   \n",
       "2                No damage  ...                                   False   \n",
       "3                No damage  ...                                   False   \n",
       "4                No damage  ...                                   False   \n",
       "\n",
       "                                             Remarks Wildlife: Size  \\\n",
       "0  FLT 753. PILOT REPTD A HUNDRED BIRDS ON UNKN T...         Medium   \n",
       "1  102 CARCASSES FOUND. 1 LDG LIGHT ON NOSE GEAR ...          Small   \n",
       "2  FLEW UNDER A VERY LARGE FLOCK OF BIRDS OVER AP...          Small   \n",
       "3  NOTAM WARNING. 26 BIRDS HIT THE A/C, FORCING A...          Small   \n",
       "4                                      NO DMG REPTD.          Small   \n",
       "\n",
       "  Conditions: Sky      Wildlife: Species  Pilot warned of birds or wildlife?  \\\n",
       "0        No Cloud  Unknown bird - medium                                   N   \n",
       "1      Some Cloud            Rock pigeon                                   Y   \n",
       "2        No Cloud      European starling                                   N   \n",
       "3      Some Cloud      European starling                                   Y   \n",
       "4        No Cloud      European starling                                   N   \n",
       "\n",
       "   Cost: Total $ Feet above ground Number of people injured Is Aircraft Large?  \n",
       "0          30736            1500.0                        0                Yes  \n",
       "1              0               0.0                        0                 No  \n",
       "2              0              50.0                        0                 No  \n",
       "3              0              50.0                        0                Yes  \n",
       "4              0              50.0                        0                 No  \n",
       "\n",
       "[5 rows x 26 columns]"
      ]
     },
     "execution_count": 4,
     "metadata": {},
     "output_type": "execute_result"
    }
   ],
   "source": [
    "data.head(5)"
   ]
  },
  {
   "cell_type": "code",
   "execution_count": 5,
   "id": "bdb045c5",
   "metadata": {},
   "outputs": [],
   "source": [
    "# Remove unnecessary columns\n",
    "data.drop(columns=['Record ID','Remarks','Origin State','Aircraft: Number of engines?'],inplace = True)"
   ]
  },
  {
   "cell_type": "code",
   "execution_count": 6,
   "id": "6410a272",
   "metadata": {},
   "outputs": [],
   "source": [
    "data.dropna(axis = 'index',inplace = True)"
   ]
  },
  {
   "cell_type": "code",
   "execution_count": 7,
   "id": "71927d87",
   "metadata": {},
   "outputs": [
    {
     "data": {
      "text/plain": [
       "Aircraft: Type                             0\n",
       "Airport: Name                              0\n",
       "Altitude bin                               0\n",
       "Aircraft: Make/Model                       0\n",
       "Wildlife: Number struck                    0\n",
       "Wildlife: Number Struck Actual             0\n",
       "Effect: Impact to flight                   0\n",
       "FlightDate                                 0\n",
       "Effect: Indicated Damage                   0\n",
       "Aircraft: Airline/Operator                 0\n",
       "When: Phase of flight                      0\n",
       "Conditions: Precipitation                  0\n",
       "Remains of wildlife collected?             0\n",
       "Remains of wildlife sent to Smithsonian    0\n",
       "Wildlife: Size                             0\n",
       "Conditions: Sky                            0\n",
       "Wildlife: Species                          0\n",
       "Pilot warned of birds or wildlife?         0\n",
       "Cost: Total $                              0\n",
       "Feet above ground                          0\n",
       "Number of people injured                   0\n",
       "Is Aircraft Large?                         0\n",
       "dtype: int64"
      ]
     },
     "execution_count": 7,
     "metadata": {},
     "output_type": "execute_result"
    }
   ],
   "source": [
    "data.isnull().sum()"
   ]
  },
  {
   "cell_type": "code",
   "execution_count": 8,
   "id": "18b76b7f",
   "metadata": {},
   "outputs": [
    {
     "name": "stdout",
     "output_type": "stream",
     "text": [
      "<class 'pandas.core.frame.DataFrame'>\n",
      "Int64Index: 25429 entries, 0 to 25557\n",
      "Data columns (total 22 columns):\n",
      " #   Column                                   Non-Null Count  Dtype         \n",
      "---  ------                                   --------------  -----         \n",
      " 0   Aircraft: Type                           25429 non-null  object        \n",
      " 1   Airport: Name                            25429 non-null  object        \n",
      " 2   Altitude bin                             25429 non-null  object        \n",
      " 3   Aircraft: Make/Model                     25429 non-null  object        \n",
      " 4   Wildlife: Number struck                  25429 non-null  object        \n",
      " 5   Wildlife: Number Struck Actual           25429 non-null  int64         \n",
      " 6   Effect: Impact to flight                 25429 non-null  object        \n",
      " 7   FlightDate                               25429 non-null  datetime64[ns]\n",
      " 8   Effect: Indicated Damage                 25429 non-null  object        \n",
      " 9   Aircraft: Airline/Operator               25429 non-null  object        \n",
      " 10  When: Phase of flight                    25429 non-null  object        \n",
      " 11  Conditions: Precipitation                25429 non-null  object        \n",
      " 12  Remains of wildlife collected?           25429 non-null  bool          \n",
      " 13  Remains of wildlife sent to Smithsonian  25429 non-null  bool          \n",
      " 14  Wildlife: Size                           25429 non-null  object        \n",
      " 15  Conditions: Sky                          25429 non-null  object        \n",
      " 16  Wildlife: Species                        25429 non-null  object        \n",
      " 17  Pilot warned of birds or wildlife?       25429 non-null  object        \n",
      " 18  Cost: Total $                            25429 non-null  int64         \n",
      " 19  Feet above ground                        25429 non-null  float64       \n",
      " 20  Number of people injured                 25429 non-null  int64         \n",
      " 21  Is Aircraft Large?                       25429 non-null  object        \n",
      "dtypes: bool(2), datetime64[ns](1), float64(1), int64(3), object(15)\n",
      "memory usage: 4.1+ MB\n"
     ]
    }
   ],
   "source": [
    "data.info()"
   ]
  },
  {
   "cell_type": "code",
   "execution_count": 9,
   "id": "757c9b0d",
   "metadata": {},
   "outputs": [
    {
     "data": {
      "image/png": "[encoded data removed]",
      "text/plain": [
       "<Figure size 216x216 with 1 Axes>"
      ]
     },
     "metadata": {
      "needs_background": "light"
     },
     "output_type": "display_data"
    }
   ],
   "source": [
    "# No of bird strikes based on the altitude\n",
    "plt.figure(figsize=(3,3))\n",
    "sns.countplot(x = data['Altitude bin'])\n",
    "plt.xlabel('Altitude')\n",
    "plt.ylabel('No of bird strikes')\n",
    "plt.title('Bird Strikes based on Altitude')\n",
    "plt.show()"
   ]
  },
  {
   "cell_type": "markdown",
   "id": "eb822ae7",
   "metadata": {},
   "source": [
    "Most bird strikes happened at an altitude below 1000 ft"
   ]
  },
  {
   "cell_type": "code",
   "execution_count": 10,
   "id": "6dafe819",
   "metadata": {},
   "outputs": [
    {
     "data": {
      "image/png": "[encoded data removed]",
      "text/plain": [
       "<Figure size 576x360 with 1 Axes>"
      ]
     },
     "metadata": {
      "needs_background": "light"
     },
     "output_type": "display_data"
    }
   ],
   "source": [
    "# What actions did the pilot take after the bird strike?\n",
    "plt.figure(figsize=(8,5))\n",
    "sns.countplot(x = data['Effect: Impact to flight'])\n",
    "plt.xlabel('Action taken')\n",
    "plt.ylabel('No of bird strikes')\n",
    "plt.title('Action taken after bird strike')\n",
    "plt.show()"
   ]
  },
  {
   "cell_type": "markdown",
   "id": "3226a3d8",
   "metadata": {},
   "source": [
    "Most bird strikes did not make the pilot take any action, i.e. the journey continued"
   ]
  },
  {
   "cell_type": "code",
   "execution_count": 11,
   "id": "897c45d8",
   "metadata": {},
   "outputs": [
    {
     "data": {
      "image/png": "[encoded data removed]",
      "text/plain": [
       "<Figure size 288x288 with 1 Axes>"
      ]
     },
     "metadata": {
      "needs_background": "light"
     },
     "output_type": "display_data"
    }
   ],
   "source": [
    "# Size of birds that hit the aircraft\n",
    "plt.figure(figsize=(4,4))\n",
    "sns.countplot(x = data['Wildlife: Size'])\n",
    "plt.xlabel('Bird Size')\n",
    "plt.ylabel('No of bird strikes')\n",
    "plt.title('Size of birds that hit the aircraft')\n",
    "plt.show()"
   ]
  },
  {
   "cell_type": "markdown",
   "id": "bd45b6ee",
   "metadata": {},
   "source": [
    "Most birds were small in size, it might not have inflicted any damage to the aircraft, hence, most journeys continued even after bird strike "
   ]
  },
  {
   "cell_type": "code",
   "execution_count": 12,
   "id": "9076e6ab",
   "metadata": {},
   "outputs": [
    {
     "data": {
      "image/png": "[encoded data removed]",
      "text/plain": [
       "<Figure size 288x288 with 1 Axes>"
      ]
     },
     "metadata": {
      "needs_background": "light"
     },
     "output_type": "display_data"
    }
   ],
   "source": [
    "# Did weather conditions affect the pilot's vision?\n",
    "plt.figure(figsize=(4,4))\n",
    "sns.countplot(x = data['Conditions: Sky'])\n",
    "plt.xlabel('Weather condition')\n",
    "plt.ylabel('No of bird strikes')\n",
    "plt.title('No of accidents based on weather conditions')\n",
    "plt.show()"
   ]
  },
  {
   "cell_type": "markdown",
   "id": "a17f7201",
   "metadata": {},
   "source": [
    "Close to 50% of the bird strikes took place due to weather conditions which were not favourable for flying an aircraft"
   ]
  },
  {
   "cell_type": "code",
   "execution_count": 13,
   "id": "d544b1fe",
   "metadata": {},
   "outputs": [
    {
     "data": {
      "image/png": "[encoded data removed]",
      "text/plain": [
       "<Figure size 216x216 with 1 Axes>"
      ]
     },
     "metadata": {
      "needs_background": "light"
     },
     "output_type": "display_data"
    }
   ],
   "source": [
    "# Were the pilots cautioned about the birds?\n",
    "plt.figure(figsize=(3,3))\n",
    "sns.countplot(x = data['Pilot warned of birds or wildlife?'])\n",
    "plt.xlabel('Warning issued')\n",
    "plt.ylabel('No of bird strikes')\n",
    "plt.title('Bird Strikes based on warnings')\n",
    "plt.show()"
   ]
  },
  {
   "cell_type": "markdown",
   "id": "c9184a3c",
   "metadata": {},
   "source": [
    "Though warnings were issued to pilots in almost 40% of the cases, they could not seem to avoid the accident"
   ]
  },
  {
   "cell_type": "code",
   "execution_count": 14,
   "id": "7216809c",
   "metadata": {},
   "outputs": [
    {
     "data": {
      "image/png": "[encoded data removed]",
      "text/plain": [
       "<Figure size 216x216 with 1 Axes>"
      ]
     },
     "metadata": {
      "needs_background": "light"
     },
     "output_type": "display_data"
    }
   ],
   "source": [
    "plt.figure(figsize=(3,3))\n",
    "sns.countplot(x = data['Is Aircraft Large?'])\n",
    "plt.xlabel('Large Aircraft')\n",
    "plt.ylabel('No of bird strikes')\n",
    "plt.title('Effect of aircraft size on accidents')\n",
    "plt.show()"
   ]
  },
  {
   "cell_type": "markdown",
   "id": "a85ac5c6",
   "metadata": {},
   "source": [
    "Almost two thirds of birds were struck by small aircrafts"
   ]
  },
  {
   "cell_type": "code",
   "execution_count": 15,
   "id": "82ed02ef",
   "metadata": {},
   "outputs": [],
   "source": [
    "# Writing a new csv file\n",
    "data.to_csv('Bird Strikes.csv')"
   ]
  }
 ],
 "metadata": {
  "kernelspec": {
   "display_name": "Python 3 (ipykernel)",
   "language": "python",
   "name": "python3"
  },
  "language_info": {
   "codemirror_mode": {
    "name": "ipython",
    "version": 3
   },
   "file_extension": ".py",
   "mimetype": "text/x-python",
   "name": "python",
   "nbconvert_exporter": "python",
   "pygments_lexer": "ipython3",
   "version": "3.9.7"
  }
 },
 "nbformat": 4,
 "nbformat_minor": 5
}
